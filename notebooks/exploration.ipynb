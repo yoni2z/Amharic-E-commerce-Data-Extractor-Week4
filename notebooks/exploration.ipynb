{
 "cells": [
  {
   "cell_type": "markdown",
   "id": "c07da226-7dcf-4b59-9d3c-38b2c624a70d",
   "metadata": {},
   "source": [
    "# Task 2: Data Exploration for Amharic NER Labeling\n",
    "\n",
    "This notebook explores the scraped Telegram data (`data/raw/telegram_data.csv`) to prepare for labeling 50 messages in CoNLL format for Named Entity Recognition (NER). The goals are:\n",
    "- Load and inspect the data.\n",
    "- Select 50 diverse messages for labeling.\n",
    "- Experiment with tokenization (whitespace and XLM-RoBERTa).\n",
    "- Prototype labeling for entities: `B-Product`, `I-Product`, `B-LOC`, `I-LOC`, `B-PRICE`, `I-PRICE`, `O`.\n",
    "- Visualize data to inform labeling strategy.\n",
    "\n",
    "This supports the development of `scripts/data_labeling/label_data.py` and `data/processed/labeled_data.conll`.\n"
   ]
  },
  {
   "cell_type": "markdown",
   "id": "5a5c7a96-b143-491a-b9d1-0e98dd59ee3a",
   "metadata": {},
   "source": [
    "## 1. Setup and Imports\n",
    "Install and import libraries for data handling, tokenization, and visualization.\n"
   ]
  },
  {
   "cell_type": "code",
   "execution_count": 1,
   "id": "620022e5-fa16-4126-81f5-c3de814d24ef",
   "metadata": {},
   "outputs": [],
   "source": [
    "# Imports\n",
    "import pandas as pd\n",
    "import matplotlib.pyplot as plt\n",
    "import seaborn as sns\n",
    "from transformers import AutoTokenizer\n",
    "import random\n",
    "\n",
    "random.seed(42)\n",
    "\n",
    "data_path = '../data/raw/telegram_data.csv'\n"
   ]
  },
  {
   "cell_type": "markdown",
   "id": "69f66f44-ed92-468a-b649-ce359d902efe",
   "metadata": {},
   "source": [
    "## 2. Load and Inspect Data\n",
    "Load `telegram_data.csv` and check its structure, missing values, and Amharic text."
   ]
  },
  {
   "cell_type": "code",
   "execution_count": 2,
   "id": "230634b6-26c0-4928-aae8-4aa9f9fb05ac",
   "metadata": {},
   "outputs": [
    {
     "name": "stdout",
     "output_type": "stream",
     "text": [
      "Data loaded successfully!\n",
      "\n",
      "Data Info:\n",
      "<class 'pandas.core.frame.DataFrame'>\n",
      "RangeIndex: 30134 entries, 0 to 30133\n",
      "Data columns (total 7 columns):\n",
      " #   Column            Non-Null Count  Dtype \n",
      "---  ------            --------------  ----- \n",
      " 0   Channel Title     30134 non-null  object\n",
      " 1   Channel Username  30134 non-null  object\n",
      " 2   ID                30134 non-null  int64 \n",
      " 3   Message           18525 non-null  object\n",
      " 4   Date              30134 non-null  object\n",
      " 5   Views             30134 non-null  int64 \n",
      " 6   Media Path        25569 non-null  object\n",
      "dtypes: int64(2), object(5)\n",
      "memory usage: 1.6+ MB\n",
      "None\n",
      "\n",
      "Sample Data:\n",
      "    Channel Title Channel Username    ID  \\\n",
      "0  Zemen Express®    @ZemenExpress  6982   \n",
      "1  Zemen Express®    @ZemenExpress  6981   \n",
      "2  Zemen Express®    @ZemenExpress  6980   \n",
      "3  Zemen Express®    @ZemenExpress  6979   \n",
      "4  Zemen Express®    @ZemenExpress  6978   \n",
      "\n",
      "                                             Message  \\\n",
      "0  💥💥...................................💥💥 📌Imita...   \n",
      "1  💥💥...................................💥💥 📌 Baby...   \n",
      "2                                                NaN   \n",
      "3                                                NaN   \n",
      "4                                                NaN   \n",
      "\n",
      "                        Date  Views                          Media Path  \n",
      "0  2025-06-18T06:01:10+00:00   2384                                 NaN  \n",
      "1  2025-06-16T12:21:00+00:00   3423                                 NaN  \n",
      "2  2025-06-16T05:11:57+00:00   3453  data/photos\\@ZemenExpress_6980.jpg  \n",
      "3  2025-06-16T05:11:57+00:00   3496  data/photos\\@ZemenExpress_6979.jpg  \n",
      "4  2025-06-16T05:11:57+00:00   3491  data/photos\\@ZemenExpress_6978.jpg  \n",
      "\n",
      "Missing Values:\n",
      "Channel Title           0\n",
      "Channel Username        0\n",
      "ID                      0\n",
      "Message             11609\n",
      "Date                    0\n",
      "Views                   0\n",
      "Media Path           4565\n",
      "dtype: int64\n",
      "\n",
      "Sample Messages:\n",
      "['Baby high chair ጥራቱ እጅግ አስተማማኝ ምቾቱ ጥርጣሬ የሌለው የልጆ መመገቢያ ምቹ ወንበር መተኛት የሚችል ቀን ላይ ልጆች እዛው ላይ መተኛት ይችላሉ ማጠር መርዘም የሚችል ጠንካራ እና ምቹ መመገቢያ ማንቀሳቀስ እንዲቻል ጎማ የተገመለት 17000ብር FREE DELIVERY 0909003864 0905707448 እቃ ለማዘዝ ከስር ያለውን ሊንኮች በመጫን ማዘዝ ትችላላቹ @sinasinaye @sinayalj2 አድራሻ 1️⃣ቁጥር1 ገርጂ ኢምፔሪያል ከሳሚ ህንፃ ጎን አልፎዝ ፕላዛ ግራውንድ ላይ እንደገቡ ያገኙናል 2️⃣ቁጥር2 4ኪሎ ቅድስት ስላሴ ህንፃ ማለትም ከብልፅግና ዋናፅፈት ቤት ህንፃ በስተ ቀኝ ባለው አስፓልት 20ሜትር ዝቅ እንዳሉ ሀበሻ ኮፊ የሚገኝበት ቀይ ሸክላ ህንፃ 2ተኛ ፎቅ ላይ ያገኙናል 3️⃣ቁጥር3 ብስራተ ገብርኤል ላፍቶ ሞል መግቢያው ፊት ለፊት የሚገኘው የብስራተ ገብርኤል ቤተ ክርስቲያን ህንፃ አንደኛ ፎቅ ላይ ደረጃ እንደወጣቹ በስተግራ በኩል ሱቅ ቁጥር FF-09 ክቡራን ደምበኞቻችን ገርጂ አልፎዝ ፕላዛ ላይ አራት ኪሎ ቅድስት ስላሴ እንዲሁም ብስራተ ገብሬል ያሉት ሱቆቻችን ሲመጡ አስተማማኝ ሰፊ ፓርኪንግ ያላቸው መሆናቸውን በታላቅ ደስታ እናበስራለን🙏🙏🙏', 'Nike airmax #500 Made in Vietnam Price 1250 birr 🏢አድራሻ-ሜክሲኮ ኮሜርስ ጀርባ መዚድ ፕላዛ አንደኛ ደረጃ እንደወጡ ያገኙናል or call 0920238243', 'ልጆችዎ የፈጠራ አቅማቸውን እንዲያጎለብቱ የሚረዳቸው ትምህርታዊ መጫወቻዎች በተለያየ አማራጭ የሚያገኙበት ምርጥ ስፍራ አድራሻ፦ 📍ጉርድ ሾላ ሆሊ ሲቲ ሴንተር 3ኛ ፎቅ ይምጡ በመነሻዬ የልጅዎን መነሻ ያቅልሉ! ይደውሉ 0989939393 ወይም 0930323334 Telegram > http://t.me/meneshayeofficial Tiktok > http://tiktok.com/@meneshayeofficial Facebook > http://facebook.com/@meneshayeofficial #creativity #imagination #concentration #gift #entertain #toy #kid #store #educationaltoys #meneshaye #meneshayestore', '🎯 Creative 6 layer Shoe Rack 🔰የጫማ ማስቀመጫ 🔰 ባለ ስድስት ደረጃ 🔰 ቦታ ቆጣቢ 🔰 ሲዘረጋ 27cm*27cm*86cm ስፋት 🔰 ከጠንካራ ፕላስቲክ የተሰራ 🔰ገጠማ የማይፈልግ 🔰6 ጥንድ ጫማዎችን ይይዛል ዋጋ፦ 💰🏷 1800 ብር ♦️ውስን ፍሬ ነው ያለው 🔥🔥🔥 🏢 አድራሻ👉 መገናኛ ደራርቱ ህንፃ ጎን መሰረት ደፋር ሞል ሁለተኛ ፎቅ ቢሮ ቁ. S05/S06 💧💧💧💧 📲 0902660722 📲 0928460606 🔖 💬 በTelegram ለማዘዝ ⤵️ ይጠቀሙ @zemencallcenter @zemenexpressadmin ለተጨማሪ ማብራሪያ የቴሌግራም ገፃችን⤵️ https://telegram.me/zemenexpress', '🎯 Clothes Storage Bag 💯High Quality 💯Large Size 🔰Complete protection from dust, moisture 🔰Foldable when not in use 🔰Multiple uses 🔰You can place this cupboard organizer for clothes anywhere in your room 📌Size 🔹️#Length: 50cm 🔹️#Width: 40cm 🔹️#Hight: 33cm ዋጋ፦ 💰🏷 1350 ብር 📍ውስን ፍሬ ነው ያለን/ Limited Stock 🏢 አድራሻ👉 መገናኛ ደራርቱ ህንፃ ጎን መሰረት ደፋር ሞል ሁለተኛ ፎቅ ቢሮ ቁ. S05/S06 💧💧💧💧 📲 0902660722 📲 0928460606 🔖 💬 በTelegram ለማዘዝ ⤵️ ይጠቀሙ @zemencallcenter @zemenexpressadmin ለተጨማሪ ማብራሪያ የቴሌግራም ገፃችን⤵️ https://telegram.me/zemenexpress']\n"
     ]
    }
   ],
   "source": [
    "try:\n",
    "    df = pd.read_csv(data_path, encoding='utf-8')\n",
    "    print(\"Data loaded successfully!\")\n",
    "except FileNotFoundError:\n",
    "    print(f\"Error: File {data_path} not found.\")\n",
    "\n",
    "# Display basic info\n",
    "print(\"\\nData Info:\")\n",
    "print(df.info())\n",
    "\n",
    "# Display first 5 rows\n",
    "print(\"\\nSample Data:\")\n",
    "print(df.head())\n",
    "\n",
    "# Check missing values\n",
    "print(\"\\nMissing Values:\")\n",
    "print(df.isnull().sum())\n",
    "\n",
    "# Sample Amharic messages\n",
    "print(\"\\nSample Messages:\")\n",
    "print(df['Message'].dropna().sample(5).to_list())\n"
   ]
  },
  {
   "cell_type": "markdown",
   "id": "755c0fde-61fc-40ac-859a-169cdbd9ad95",
   "metadata": {},
   "source": [
    "## 3. Select Messages\n",
    "Randomly select 50 messages from the `Message` column, ensuring diversity."
   ]
  },
  {
   "cell_type": "code",
   "execution_count": 3,
   "id": "6bf0a7b4-67db-4acd-b8e0-7baa6306beb9",
   "metadata": {},
   "outputs": [
    {
     "name": "stdout",
     "output_type": "stream",
     "text": [
      "Selected 50 messages:\n",
      "1. Adidas ZX Size 40,41,42 Price 2900 birr 🏢አድራሻ-ሜክሲኮ ኮሜርስ ጀርባ መዚድ ፕላዛ አንደኛ ደረጃ እንደወጡ ያገኙናል or call 0920238243\n",
      "2. መነሻዬ ስዕል ደብተር ጥቅል ምሉዕነት ከጥራት ጋር !! 👉 በፍፁም ቀለም የማያሳልፍ የስዕል ደብተር 👉 ሁለት ገፆችን በወጥነት መጠቀም የሚያስችል 👉 በየትኛውም እድሜ ክልል ሊጠቀሙበት የሚችሉት 👉 12 መጥፋት የሚችሉ ባለቀለም እርሳሶችን ያካተተ 👉 ለአያያዝ አመቺ የሆኑ 3 እርሳሶች 👉 ሲያጠፉባቸው የማይፈረፈሩ 3 ላጲሶች 👉 ባለ 2 ቀዳዳ መቅረጫ ዋጋ 1400 የማህበራዊ ድረገፆቻችንን ይጎብኙ https://linktr.ee/meneshaye ይደውሉ 0989939393 ወይም 0930323334 አድራሻ፦ 1.ጉርድ ሾላ ሆሊ ሲቲ ሴንተር 2. ፒያሳ ካንትሪ ታወር በተጨማሪም 👉 ጀሞ ደሊና ሞል ፤ ገርጂ ከፋውንቴን ህንፃ ፊት ለፊት #መነሻዬ #meneshaye #kidsdrawing #drawing #kidsart #art #kidsartwork #painting #artclass #kidspainting #artwork #kids #kidsactivities #creative #creativity #illustration #childrenart #artist #creativekids #sketching #artforkids #funart #kidsdrawings #fun #littleartist #kidsartclass #kidscoloring #kidscrafts\n",
      "3. We are under-constructions and shop is closed for 4 days. call before came we will deliver to ur place Contact @rasneva\n",
      "4. 🌼🌼 ልዮ የበአል ቅናሽ 🌼🌼 እንደቀጠለ ነው ♦️ውስን ፍሬ ነው ያለው 🔥🔥🔥 🏢 አድራሻ👉 መገናኛ #መሰረት ደፋር ሞል ሁለተኛ ፎቅ ቢሮ ቁ. S05/S06 😀😀😀😀 📲 0902660722 📲 0928460606 🔖 😀 በTelegram ለማዘዝ ⤵️ ይጠቀሙ @zemencallcenter @zemenexpressadmin ለተጨማሪ ማብራሪያ የቴሌግራም ገፃችን⤵️ https://telegram.me/zemenexpress\n",
      "5. 🎯Baby Head Helmet Cotton Walk Safety Hat Breathable Headgear Toddler Antifall Pad 🔰This product is made of non-toxic cotton material. 🔰It can be adjustable to fits all the different size of head. 🔰The product is also breathable and the baby's head will not be sultry and muggy when playing. ዋጋ፦ 💰🏷 500 ብር ♦️ውስን ፍሬ ነው ያለው 🏢 አድራሻ👉 መገናኛ ደራርቱ ህንፃ ጎን መሰረት ደፋር ሞል ሁለተኛ ፎቅ ቢሮ ቁ. S05/S06 💧💧💧💧 📲 0902660722 📲 0928460606 🔖 💬 በTelegram ለማዘዝ ⤵️ ይጠቀሙ @zemencallcenter @zemenexpressadmin ለተጨማሪ ማብራሪያ የቴሌግራም ገፃችን⤵️ https://telegram.me/zemenexpress\n"
     ]
    }
   ],
   "source": [
    "messages = df['Message'].dropna().sample(n=50, random_state=42).tolist()\n",
    "print(f\"Selected {len(messages)} messages:\")\n",
    "for i, msg in enumerate(messages[:5], 1):\n",
    "    print(f\"{i}. {msg}\")"
   ]
  },
  {
   "cell_type": "markdown",
   "id": "f4d67ad8-fc74-4f00-ac99-8825b7633d1a",
   "metadata": {},
   "source": [
    "## 4. Tokenization Experiments\n",
    "Test whitespace and XLM-RoBERTa tokenization for Amharic text."
   ]
  },
  {
   "cell_type": "code",
   "execution_count": 4,
   "id": "64ac3365-9277-4be9-8334-6d915b2b701c",
   "metadata": {},
   "outputs": [
    {
     "name": "stdout",
     "output_type": "stream",
     "text": [
      "\n",
      "Whitespace Tokenization:\n",
      "Message: Adidas ZX Size 40,41,42 Price 2900 birr 🏢አድራሻ-ሜክሲኮ ኮሜርስ ጀርባ መዚድ ፕላዛ አንደኛ ደረጃ እንደወጡ ያገኙናል or call 0920238243\n",
      "Tokens: ['Adidas', 'ZX', 'Size', '40,41,42', 'Price', '2900', 'birr', '🏢አድራሻ-ሜክሲኮ', 'ኮሜርስ', 'ጀርባ', 'መዚድ', 'ፕላዛ', 'አንደኛ', 'ደረጃ', 'እንደወጡ', 'ያገኙናል', 'or', 'call', '0920238243']\n"
     ]
    },
    {
     "data": {
      "application/vnd.jupyter.widget-view+json": {
       "model_id": "82636d3b5a8546e5a68f4b6fdf677d37",
       "version_major": 2,
       "version_minor": 0
      },
      "text/plain": [
       "tokenizer_config.json:   0%|          | 0.00/25.0 [00:00<?, ?B/s]"
      ]
     },
     "metadata": {},
     "output_type": "display_data"
    },
    {
     "data": {
      "application/vnd.jupyter.widget-view+json": {
       "model_id": "5f9ed81ae4344d43ba80b33459dfc3f4",
       "version_major": 2,
       "version_minor": 0
      },
      "text/plain": [
       "config.json:   0%|          | 0.00/615 [00:00<?, ?B/s]"
      ]
     },
     "metadata": {},
     "output_type": "display_data"
    },
    {
     "data": {
      "application/vnd.jupyter.widget-view+json": {
       "model_id": "2a20b2582fb549bbb8cdf4dc472388ec",
       "version_major": 2,
       "version_minor": 0
      },
      "text/plain": [
       "sentencepiece.bpe.model:   0%|          | 0.00/5.07M [00:00<?, ?B/s]"
      ]
     },
     "metadata": {},
     "output_type": "display_data"
    },
    {
     "data": {
      "application/vnd.jupyter.widget-view+json": {
       "model_id": "b6d9e5a4b6b345e287a41ef84fa181fd",
       "version_major": 2,
       "version_minor": 0
      },
      "text/plain": [
       "tokenizer.json:   0%|          | 0.00/9.10M [00:00<?, ?B/s]"
      ]
     },
     "metadata": {},
     "output_type": "display_data"
    },
    {
     "name": "stdout",
     "output_type": "stream",
     "text": [
      "\n",
      "XLM-RoBERTa Tokenization:\n",
      "Tokens: ['▁Adidas', '▁Z', 'X', '▁Size', '▁40', ',', '41', ',', '42', '▁Price', '▁2', '900', '▁bir', 'r', '▁', '🏢', 'አ', 'ድ', 'ራ', 'ሻ', '-', 'ሜ', 'ክሲ', 'ኮ', '▁ኮ', 'ሜ', 'ርስ', '▁ጀርባ', '▁መ', 'ዚ', 'ድ', '▁', 'ፕ', 'ላ', 'ዛ', '▁', 'አንደኛ', '▁ደረጃ', '▁እንደ', 'ወጡ', '▁', 'ያገኙ', 'ናል', '▁or', '▁call', '▁09', '20', '23', '82', '43']\n"
     ]
    }
   ],
   "source": [
    "# Whitespace tokenization\n",
    "sample_message = messages[0]\n",
    "whitespace_tokens = sample_message.split()\n",
    "print(\"\\nWhitespace Tokenization:\")\n",
    "print(f\"Message: {sample_message}\")\n",
    "print(f\"Tokens: {whitespace_tokens}\")\n",
    "\n",
    "# XLM-RoBERTa tokenization\n",
    "tokenizer = AutoTokenizer.from_pretrained('xlm-roberta-base')\n",
    "xlm_tokens = tokenizer.tokenize(sample_message)\n",
    "print(\"\\nXLM-RoBERTa Tokenization:\")\n",
    "print(f\"Tokens: {xlm_tokens}\")"
   ]
  },
  {
   "cell_type": "markdown",
   "id": "1837bfd4-f911-4ac5-9b66-3630c5124fb7",
   "metadata": {},
   "source": [
    "## 5. Labeling Prototyping\n",
    "Test labeling a sample message in CoNLL format."
   ]
  },
  {
   "cell_type": "code",
   "execution_count": 6,
   "id": "5a95e5b4-b67a-4b3f-b671-72faf37c002d",
   "metadata": {},
   "outputs": [
    {
     "name": "stdout",
     "output_type": "stream",
     "text": [
      "\n",
      "Sample CoNLL Output:\n",
      "ቦሌ B-LOC\n",
      "ውስጥ O\n",
      "የልጆች B-Product\n",
      "ጫማ I-Product\n",
      "ዋጋ B-PRICE\n",
      "500 I-PRICE\n",
      "ብር I-PRICE\n",
      "\n"
     ]
    }
   ],
   "source": [
    "# Sample message\n",
    "sample_message = \"ቦሌ ውስጥ የልጆች ጫማ ዋጋ 500 ብር\"\n",
    "tokens = sample_message.split()\n",
    "\n",
    "# Manual labeling (example)\n",
    "labels = [\n",
    "    'B-LOC',     \n",
    "    'O',       \n",
    "    'B-Product', \n",
    "    'I-Product', \n",
    "    'B-PRICE',  \n",
    "    'I-PRICE',  \n",
    "    'I-PRICE'  \n",
    "]\n",
    "\n",
    "# Display CoNLL format\n",
    "print(\"\\nSample CoNLL Output:\")\n",
    "for token, label in zip(tokens, labels):\n",
    "    print(f\"{token} {label}\")\n",
    "print() \n"
   ]
  },
  {
   "cell_type": "markdown",
   "id": "c035033c-0d68-4c84-bfa7-fe9f8859db14",
   "metadata": {},
   "source": [
    "## 6. Visualization and Analysis\n",
    "Visualize message length distribution to understand data."
   ]
  },
  {
   "cell_type": "code",
   "execution_count": 7,
   "id": "1353a2fe-2aec-49ed-bd1a-bac226b78fe0",
   "metadata": {},
   "outputs": [
    {
     "data": {
      "image/png": "[encoded data removed]",
      "text/plain": [
       "<Figure size 1000x600 with 1 Axes>"
      ]
     },
     "metadata": {},
     "output_type": "display_data"
    }
   ],
   "source": [
    "message_lengths = df['Message'].dropna().apply(lambda x: len(x.split()))\n",
    "\n",
    "# Plot distribution\n",
    "plt.figure(figsize=(10, 6))\n",
    "sns.histplot(message_lengths, bins=20)\n",
    "plt.title('Distribution of Message Lengths (Tokens)')\n",
    "plt.xlabel('Number of Tokens')\n",
    "plt.ylabel('Frequency')\n",
    "plt.savefig('../results/message_length_distribution.png')\n",
    "plt.show()\n"
   ]
  },
  {
   "cell_type": "markdown",
   "id": "657e31d7-704b-4a50-b1fe-72da886b1976",
   "metadata": {},
   "source": [
    "## 7. Conclusion and Next Steps\n",
    "- **Findings**: Whitespace tokenization is simple but may split multi-word entities incorrectly. XLM-RoBERTa handles Amharic better but requires label alignment.\n",
    "- **Challenges**: Multi-word entities (e.g., \"Addis Abeba\") need consistent `B-` and `I-` labeling.\n",
    "- **Next Steps**: Implement `label_data.py` to label 50 messages, using whitespace tokenization for simplicity, and save to `data/processed/labeled_data.conll`.\n"
   ]
  },
  {
   "cell_type": "code",
   "execution_count": null,
   "id": "884ebf2c-bf30-4ec7-b5e4-17a3e94d6148",
   "metadata": {},
   "outputs": [],
   "source": []
  }
 ],
 "metadata": {
  "kernelspec": {
   "display_name": "Python 3 (ipykernel)",
   "language": "python",
   "name": "python3"
  },
  "language_info": {
   "codemirror_mode": {
    "name": "ipython",
    "version": 3
   },
   "file_extension": ".py",
   "mimetype": "text/x-python",
   "name": "python",
   "nbconvert_exporter": "python",
   "pygments_lexer": "ipython3",
   "version": "3.12.6"
  }
 },
 "nbformat": 4,
 "nbformat_minor": 5
}
